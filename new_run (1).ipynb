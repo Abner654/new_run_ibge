{
 "cells": [
  {
   "cell_type": "code",
   "execution_count": null,
   "metadata": {},
   "outputs": [],
   "source": [
    "import pandas as pd\n",
    "import json\n",
    "import time\n",
    "from shapely.geometry import Point\n",
    "from shapely.geometry import Polygon\n",
    "from shapely.geometry.multipolygon import MultiPolygon\n",
    "from shapely.geometry.polygon import Polygon"
   ]
  },
  {
   "cell_type": "code",
   "execution_count": null,
   "metadata": {},
   "outputs": [],
   "source": [
    "caminho_data = 'data_final.csv'\n",
    "caminho_json = 'C:/Users/abner/Desktop/python/Polygon/dados_IBGE/Coordendas_municipios.geojson'\n",
    "caminho_dados_mun = 'AR_BR_RG_UF_MES_MIC_MUN_2017.xlsx'"
   ]
  },
  {
   "cell_type": "code",
   "execution_count": null,
   "metadata": {
    "scrolled": true
   },
   "outputs": [],
   "source": [
    "dados_mun = pd.read_excel(caminho_dados_mun, encoding='latin-1')"
   ]
  },
  {
   "cell_type": "code",
   "execution_count": null,
   "metadata": {},
   "outputs": [],
   "source": [
    "with open(caminho_json, encoding=\"latin-1\") as file:\n",
    "    coords_json = json.load(file)"
   ]
  },
  {
   "cell_type": "code",
   "execution_count": null,
   "metadata": {
    "scrolled": true
   },
   "outputs": [],
   "source": [
    "# coords_json['features'][1067]['properties']['CD_GEOCMU']\n",
    "# coords_json['features'][1067]['geometry']['coordinates']"
   ]
  },
  {
   "cell_type": "code",
   "execution_count": null,
   "metadata": {},
   "outputs": [],
   "source": [
    "data_final = pd.DataFrame()\n",
    "data_final = pd.DataFrame(columns=['COD_UF','CD_GEOCMU','UF','ESTADO','CIDADE','COORDENADAS'])\n",
    "for i in range(0, len(coords_json['features'])):\n",
    "\n",
    "    data_final.loc[i,'COD_UF'] = coords_json['features'][i]['properties']['CD_GEOCMU'][0:2]\n",
    "    data_final.loc[i,'CD_GEOCMU'] = coords_json['features'][i]['properties']['CD_GEOCMU']\n",
    "    \n",
    "    data_final.loc[i,'UF'] = dados_mun.iloc[ dados_mun.loc[dados_mun['CD_GCMUN'] == int(data_final.loc[i,'CD_GEOCMU']) ].index[0]  ]['NM_UF_SIGLA'] \n",
    "    \n",
    "    data_final.loc[i,'ESTADO'] = dados_mun.iloc[ dados_mun.loc[dados_mun['CD_GCMUN'] == int(data_final.loc[i,'CD_GEOCMU']) ].index[0]  ]['NM_UF'].upper()\n",
    "    data_final.loc[i,'CIDADE'] = dados_mun.iloc[ dados_mun.loc[dados_mun['CD_GCMUN'] == int(data_final.loc[i,'CD_GEOCMU']) ].index[0]  ]['NM_MUN_2017'].upper()\n",
    "#     data_final.loc[i,'COORDENADAS'] = str(coords_json['features'][i]['geometry']['coordinates']).replace('[[[','[[').replace(']]]',']]').replace('[[','[').replace(']]',']').replace(']','').replace('[','').replace(' ','') \n",
    "    data_final.loc[i,'COORDENADAS'] = coords_json['features'][i]['geometry']['coordinates'] \n"
   ]
  },
  {
   "cell_type": "code",
   "execution_count": null,
   "metadata": {},
   "outputs": [],
   "source": [
    "# for i,chunk in enumerate(pd.read_csv('data_final.csv', chunksize=1800,encoding='latin-1')):\n",
    "#     chunk.to_csv('chunk{}.csv'.format(i))"
   ]
  },
  {
   "cell_type": "code",
   "execution_count": null,
   "metadata": {},
   "outputs": [],
   "source": [
    "data_final.to_csv('data_final.csv', encoding='latin-1')"
   ]
  },
  {
   "cell_type": "code",
   "execution_count": null,
   "metadata": {},
   "outputs": [],
   "source": [
    "coordenadas_cidades = pd.DataFrame(columns=['CD_GEOCMU','ESTADO','CIDADE','COORDENADAS'])\n",
    "count = 0\n",
    "for i in range (0, data_final.shape[0]):\n",
    "# for i in range (0, 10):\n",
    "    split_coords = str(data_final.COORDENADAS[i]).replace(\" \",\"\").split(']],')\n",
    "                       \n",
    "    for k in range (0, len(split_coords)):\n",
    "        coordenadas_cidades.loc[count,'CD_GEOCMU'] = data_final.CD_GEOCMU[i]\n",
    "        coordenadas_cidades.loc[count,'ESTADO'] = data_final.ESTADO[i] \n",
    "        coordenadas_cidades.loc[count,'CIDADE'] = data_final.CIDADE[i] \n",
    "        \n",
    "        coordenadas_cidades.loc[count,'COORDENADAS'] = split_coords[k].replace('[[[','[[').replace(']]]',']]').replace('[[','[').replace(']]',']').replace(']','').replace('[','')           \n",
    "        count +=1"
   ]
  },
  {
   "cell_type": "code",
   "execution_count": null,
   "metadata": {},
   "outputs": [],
   "source": [
    "polygons = [Polygon(coords_total_mun[i]) for i in range(coordenadas_cidades[coordenadas_cidades['CD_GEOCMU'] == '3304557'].index[0], coordenadas_cidades[coordenadas_cidades['CD_GEOCMU'] == '3304557'].index[-1]+1)]\n",
    "cidade_polygons = cascaded_union(polygons)\n",
    "cidade_polygons"
   ]
  },
  {
   "cell_type": "code",
   "execution_count": null,
   "metadata": {
    "scrolled": true
   },
   "outputs": [],
   "source": [
    "all_cities_coords = list()\n",
    "for i in range(0, coordenadas_cidades.shape[0]):\n",
    "    coords_city = coordenadas_cidades['COORDENADAS'][i].split(',')\n",
    "    city = list()\n",
    "    for item in coords_city:\n",
    "        city.append(float(item))\n",
    "        \n",
    "    all_cities_coords.append(city)\n",
    "    print(str(100*i/coordenadas_cidades.shape[0]),end='\\r')"
   ]
  },
  {
   "cell_type": "code",
   "execution_count": null,
   "metadata": {},
   "outputs": [],
   "source": [
    "coords_total_mun =  list()\n",
    "cities_coords = list()\n",
    "k = 0 \n",
    "while k <  len(all_cities_coords):\n",
    "    p = 0\n",
    "    cities_coords = list()\n",
    "    while p < len(all_cities_coords[k]):\n",
    "        x = (all_cities_coords[k][p],all_cities_coords[k][p+1] )\n",
    "        p = p+2\n",
    "        cities_coords.append(x)\n",
    "    coords_total_mun.append(cities_coords)\n",
    "    k = k+1"
   ]
  },
  {
   "cell_type": "code",
   "execution_count": null,
   "metadata": {},
   "outputs": [],
   "source": [
    "resultados = pd.DataFrame('CNPJBAS','COD_MUN','ESTADO','CIDADE','NX','NY')\n",
    "start_time = time.time()\n",
    "base_testes = pd.DataFrame['CNPJBAS','CD_GEOCMU','NX','NY']\n",
    "\n",
    "count = 0\n",
    "for k in range(0, len(base_testes)):    \n",
    "    polygons = [Polygon(coords_total_mun[i]) for i in range(coordenadas_cidades[coordenadas_cidades['CD_GEOCMU'] == str(base_testes.CD_GEOCMU[k])].index[0],\n",
    "                                                            coordenadas_cidades[coordenadas_cidades['CD_GEOCMU'] == str(base_testes.CD_GEOCMU[k])].index[-1]+1)]\n",
    "    cidade_polygons = cascaded_union(polygons)\n",
    "\n",
    "    local = Point(float(dados_mun.LONG[k]), float(dados_mun.LAT[k]))\n",
    "\n",
    "    if cidade_polygons.intersects(local) or cidade_polygons.contains(local):\n",
    "        n_ = 'n'\n",
    "    else:\n",
    "        resultados.loc['CNPJBAS'] = base_testes.CNPJBAS[k]\n",
    "        resultados.loc['COD_MUN'] = base_testes.COD_MUN[k]\n",
    "        resultados.loc['ESTADO'] = base_testes.ESTADO[k]\n",
    "        resultados.loc['CIDADE'] = base_testes.CIDADE[k]\n",
    "        resultados.loc['NX'] = base_testes.NX[k]\n",
    "        resultados.loc['NY'] = base_testes.NY[k]\n",
    "        count +=1\n",
    "        \n",
    "print(\"--- %s seconds ---\" % (time.time() - start_time))  "
   ]
  },
  {
   "cell_type": "code",
   "execution_count": null,
   "metadata": {},
   "outputs": [],
   "source": [
    "#teste se está dentro do município informado\n",
    "# resultados = pd.DataFrame()\n",
    "# start_time = time.time()\n",
    "# for k in range(0, len(dados_mun)):\n",
    "#     index_coordenada_mun = data_final.loc[ data_final['CD_GEOCMU'] == str(dados_mun.CD_GCMUN[k]) ].index[0]\n",
    "\n",
    "#     polygon = Polygon(coords_total_mun[ index_coordenada_mun ])\n",
    "#     local = Point(float(dados_mun.LONG[k]), float(dados_mun.LAT[k]))\n",
    "\n",
    "#     if polygon.intersects(local) or polygon.contains(local):\n",
    "#         resultados = resultados.append([[dados_mun.CD_GCMUN[k],data_final.CD_GEOCMU[index_coordenada_mun]]])\n",
    "#     else:\n",
    "#         continue\n",
    "# print(\"--- %s seconds ---\" % (time.time() - start_time))   "
   ]
  },
  {
   "cell_type": "code",
   "execution_count": null,
   "metadata": {},
   "outputs": [],
   "source": [
    "resultados.to_excel('resultados.xlsx', encoding='latin-1')"
   ]
  },
  {
   "cell_type": "code",
   "execution_count": null,
   "metadata": {},
   "outputs": [],
   "source": [
    "#merge\n",
    "k = 0\n",
    "final_csv = pd.DataFrame()\n",
    "while k <=17:\n",
    "    final_csv = final_csv.append(pd.read_csv('chunk'+str(k)+'.csv',index_col=0))\n",
    "    k=k+1\n",
    "final_csv = final_csv.drop(final_csv.columns[0], axis=1)"
   ]
  },
  {
   "cell_type": "code",
   "execution_count": null,
   "metadata": {},
   "outputs": [],
   "source": [
    "final_csv.head()"
   ]
  }
 ],
 "metadata": {
  "kernelspec": {
   "display_name": "Python 3",
   "language": "python",
   "name": "python3"
  },
  "language_info": {
   "codemirror_mode": {
    "name": "ipython",
    "version": 3
   },
   "file_extension": ".py",
   "mimetype": "text/x-python",
   "name": "python",
   "nbconvert_exporter": "python",
   "pygments_lexer": "ipython3",
   "version": "3.7.0"
  }
 },
 "nbformat": 4,
 "nbformat_minor": 2
}
