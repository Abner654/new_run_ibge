{
 "cells": [
  {
   "cell_type": "code",
   "execution_count": null,
   "metadata": {},
   "outputs": [],
   "source": [
    "import pandas as pd\n",
    "import json\n",
    "import time\n",
    "from shapely.geometry import Point\n",
    "from shapely.geometry.polygon import Polygon"
   ]
  },
  {
   "cell_type": "code",
   "execution_count": null,
   "metadata": {},
   "outputs": [],
   "source": [
    "caminho_data = 'data_final.csv'\n",
    "caminho_json = 'C:/Users/abner/Desktop/python/Polygon/dados_IBGE/Coordendas_municipios.geojson'\n",
    "caminho_dados_mun = 'AR_BR_RG_UF_MES_MIC_MUN_2017.xlsx'"
   ]
  },
  {
   "cell_type": "code",
   "execution_count": null,
   "metadata": {
    "scrolled": true
   },
   "outputs": [],
   "source": [
    "dados_mun = pd.read_excel(caminho_dados_mun, encoding='latin-1')"
   ]
  },
  {
   "cell_type": "code",
   "execution_count": null,
   "metadata": {},
   "outputs": [],
   "source": [
    "with open(caminho_json, encoding=\"latin-1\") as file:\n",
    "    coords_json = json.load(file)"
   ]
  },
  {
   "cell_type": "code",
   "execution_count": null,
   "metadata": {},
   "outputs": [],
   "source": [
    "data_final = pd.DataFrame()\n",
    "\n",
    "for i in range(0, len(coords_json['features'])):\n",
    "    \n",
    "    data_aux = pd.DataFrame(columns=['COD_UF','CD_GEOCMU','UF','ESTADO','CIDADE','COORDENADAS'])\n",
    "    \n",
    "    data_aux.loc[i,'COD_UF'] = coords_json['features'][i]['properties']['CD_GEOCMU'][0:2]\n",
    "    data_aux.loc[i,'CD_GEOCMU'] = coords_json['features'][i]['properties']['CD_GEOCMU']\n",
    "    \n",
    "    data_aux.loc[i,'UF'] = dados_mun.iloc[ dados_mun.loc[dados_mun['CD_GCMUN'] == int(data_aux.loc[i,'CD_GEOCMU']) ].index[0]  ]['NM_UF_SIGLA'] \n",
    "    \n",
    "    data_aux.loc[i,'ESTADO'] = dados_mun.iloc[ dados_mun.loc[dados_mun['CD_GCMUN'] == int(data_aux.loc[i,'CD_GEOCMU']) ].index[0]  ]['NM_UF'].upper()\n",
    "    data_aux.loc[i,'CIDADE'] = dados_mun.iloc[ dados_mun.loc[dados_mun['CD_GCMUN'] == int(data_aux.loc[i,'CD_GEOCMU']) ].index[0]  ]['NM_MUN_2017'].upper()\n",
    "    data_aux.loc[i,'COORDENADAS'] = str(coords_json['features'][i]['geometry']['coordinates']).replace('[[[','[[').replace(']]]',']]').replace('[[','[').replace(']]',']').replace(']','').replace('[','').replace(' ','') \n",
    "    \n",
    "    data_final = data_final.append(data_aux)"
   ]
  },
  {
   "cell_type": "code",
   "execution_count": 132,
   "metadata": {},
   "outputs": [],
   "source": [
    "for i,chunk in enumerate(pd.read_csv('data_final.csv', chunksize=1800,encoding='latin-1')):\n",
    "    chunk.to_csv('chunk{}.csv'.format(i))"
   ]
  },
  {
   "cell_type": "code",
   "execution_count": null,
   "metadata": {},
   "outputs": [],
   "source": [
    "data_final.to_csv('data_final.csv', encoding='latin-1')"
   ]
  },
  {
   "cell_type": "code",
   "execution_count": null,
   "metadata": {
    "scrolled": true
   },
   "outputs": [],
   "source": [
    "all_cities_coords = list()\n",
    "cities_coords = list()\n",
    "coords_total_mun =  list()\n",
    "\n",
    "for i in range(0, data_final.shape[0]):\n",
    "    coords_city = data_final['COORDENADAS'][i].split(',')\n",
    "    city = list()\n",
    "    for item in coords_city:\n",
    "        city.append(float(item))\n",
    "        \n",
    "    all_cities_coords.append(city)\n",
    "    print(str(100*i/data_final.shape[0]),end='\\r')\n",
    "\n",
    "k = 0 \n",
    "while k <  len(all_cities_coords):\n",
    "    p = 0\n",
    "    cities_coords = list()\n",
    "    while p < len(all_cities_coords[k]):\n",
    "        x = (all_cities_coords[k][p],all_cities_coords[k][p+1] )\n",
    "        p = p+2\n",
    "        cities_coords.append(x)\n",
    "    coords_total_mun.append(cities_coords)\n",
    "    k = k+1"
   ]
  },
  {
   "cell_type": "code",
   "execution_count": null,
   "metadata": {},
   "outputs": [],
   "source": [
    "#teste se está dentro do município informado\n",
    "resultados = pd.DataFrame()\n",
    "start_time = time.time()\n",
    "for k in range(0, len(dados_mun)):\n",
    "    index_coordenada_mun = data_final.loc[ data_final['CD_GEOCMU'] == str(dados_mun.CD_GCMUN[k]) ].index[0]\n",
    "    \n",
    "    polygon = Polygon(coords_total_mun[ index_coordenada_mun ])\n",
    "    local = Point(float(dados_mun.LONG[k]), float(dados_mun.LAT[k]))\n",
    "    \n",
    "    if polygon.intersects(local) or polygon.contains(local):\n",
    "        resultados = resultados.append([[dados_mun.CD_GCMUN[k],data_final.CD_GEOCMU[index_coordenada_mun]]])\n",
    "    else:\n",
    "        continue\n",
    "print(\"--- %s seconds ---\" % (time.time() - start_time))   "
   ]
  },
  {
   "cell_type": "code",
   "execution_count": null,
   "metadata": {},
   "outputs": [],
   "source": [
    "resultados.to_excel('resultados.xlsx', encoding='latin-1')"
   ]
  },
  {
   "cell_type": "code",
   "execution_count": 125,
   "metadata": {},
   "outputs": [],
   "source": [
    "#merge\n",
    "k = 0\n",
    "final_csv = pd.DataFrame()\n",
    "while k <=17:\n",
    "    final_csv = final_csv.append(pd.read_csv('chunk'+str(k)+'.csv',index_col=0))\n",
    "    k=k+1\n",
    "final_csv = final_csv.drop(final_csv.columns[0], axis=1)"
   ]
  },
  {
   "cell_type": "code",
   "execution_count": 126,
   "metadata": {},
   "outputs": [
    {
     "data": {
      "text/html": [
       "<div>\n",
       "<style scoped>\n",
       "    .dataframe tbody tr th:only-of-type {\n",
       "        vertical-align: middle;\n",
       "    }\n",
       "\n",
       "    .dataframe tbody tr th {\n",
       "        vertical-align: top;\n",
       "    }\n",
       "\n",
       "    .dataframe thead th {\n",
       "        text-align: right;\n",
       "    }\n",
       "</style>\n",
       "<table border=\"1\" class=\"dataframe\">\n",
       "  <thead>\n",
       "    <tr style=\"text-align: right;\">\n",
       "      <th></th>\n",
       "      <th>COD_UF</th>\n",
       "      <th>CD_GEOCMU</th>\n",
       "      <th>UF</th>\n",
       "      <th>ESTADO</th>\n",
       "      <th>CIDADE</th>\n",
       "      <th>COORDENADAS</th>\n",
       "    </tr>\n",
       "  </thead>\n",
       "  <tbody>\n",
       "    <tr>\n",
       "      <th>0</th>\n",
       "      <td>15</td>\n",
       "      <td>1501956</td>\n",
       "      <td>PA</td>\n",
       "      <td>PARÁ</td>\n",
       "      <td>CACHOEIRA DO PIRIÁ</td>\n",
       "      <td>-46.31955232,-1.755176174,-46.319895874,-1.755...</td>\n",
       "    </tr>\n",
       "    <tr>\n",
       "      <th>1</th>\n",
       "      <td>21</td>\n",
       "      <td>2111250</td>\n",
       "      <td>MA</td>\n",
       "      <td>MARANHÃO</td>\n",
       "      <td>SÃO JOSÉ DOS BASÍLIOS</td>\n",
       "      <td>-44.634092316,-5.034975275,-44.634069672,-5.03...</td>\n",
       "    </tr>\n",
       "    <tr>\n",
       "      <th>2</th>\n",
       "      <td>52</td>\n",
       "      <td>5201454</td>\n",
       "      <td>GO</td>\n",
       "      <td>GOIÁS</td>\n",
       "      <td>APARECIDA DO RIO DOCE</td>\n",
       "      <td>-51.142295175,-18.296724969,-51.142362302,-18....</td>\n",
       "    </tr>\n",
       "    <tr>\n",
       "      <th>3</th>\n",
       "      <td>52</td>\n",
       "      <td>5202353</td>\n",
       "      <td>GO</td>\n",
       "      <td>GOIÁS</td>\n",
       "      <td>ARENÓPOLIS</td>\n",
       "      <td>-51.699530442,-16.232696574,-51.699571438,-16....</td>\n",
       "    </tr>\n",
       "    <tr>\n",
       "      <th>4</th>\n",
       "      <td>15</td>\n",
       "      <td>1502855</td>\n",
       "      <td>PA</td>\n",
       "      <td>PARÁ</td>\n",
       "      <td>CURUÁ</td>\n",
       "      <td>-55.171927193,-1.833305029,-55.166468298,-1.73...</td>\n",
       "    </tr>\n",
       "  </tbody>\n",
       "</table>\n",
       "</div>"
      ],
      "text/plain": [
       "   COD_UF  CD_GEOCMU  UF    ESTADO                 CIDADE  \\\n",
       "0      15    1501956  PA      PARÁ     CACHOEIRA DO PIRIÁ   \n",
       "1      21    2111250  MA  MARANHÃO  SÃO JOSÉ DOS BASÍLIOS   \n",
       "2      52    5201454  GO     GOIÁS  APARECIDA DO RIO DOCE   \n",
       "3      52    5202353  GO     GOIÁS             ARENÓPOLIS   \n",
       "4      15    1502855  PA      PARÁ                  CURUÁ   \n",
       "\n",
       "                                         COORDENADAS  \n",
       "0  -46.31955232,-1.755176174,-46.319895874,-1.755...  \n",
       "1  -44.634092316,-5.034975275,-44.634069672,-5.03...  \n",
       "2  -51.142295175,-18.296724969,-51.142362302,-18....  \n",
       "3  -51.699530442,-16.232696574,-51.699571438,-16....  \n",
       "4  -55.171927193,-1.833305029,-55.166468298,-1.73...  "
      ]
     },
     "execution_count": 126,
     "metadata": {},
     "output_type": "execute_result"
    }
   ],
   "source": [
    "final_csv.head()"
   ]
  }
 ],
 "metadata": {
  "kernelspec": {
   "display_name": "Python 3",
   "language": "python",
   "name": "python3"
  },
  "language_info": {
   "codemirror_mode": {
    "name": "ipython",
    "version": 3
   },
   "file_extension": ".py",
   "mimetype": "text/x-python",
   "name": "python",
   "nbconvert_exporter": "python",
   "pygments_lexer": "ipython3",
   "version": "3.7.0"
  }
 },
 "nbformat": 4,
 "nbformat_minor": 2
}
